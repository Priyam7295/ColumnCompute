{
 "cells": [
  {
   "cell_type": "markdown",
   "metadata": {},
   "source": [
    "## Installing Libraries"
   ]
  },
  {
   "cell_type": "code",
   "execution_count": 171,
   "metadata": {},
   "outputs": [
    {
     "name": "stdout",
     "output_type": "stream",
     "text": [
      "Requirement already satisfied: flask in c:\\python311\\lib\\site-packages (3.0.3)\n",
      "Requirement already satisfied: pandas in c:\\users\\rajpr\\appdata\\roaming\\python\\python311\\site-packages (1.5.2)\n",
      "Requirement already satisfied: flask_cors in c:\\python311\\lib\\site-packages (5.0.0)\n",
      "Requirement already satisfied: Werkzeug>=3.0.0 in c:\\python311\\lib\\site-packages (from flask) (3.0.1)\n",
      "Requirement already satisfied: Jinja2>=3.1.2 in c:\\users\\rajpr\\appdata\\roaming\\python\\python311\\site-packages (from flask) (3.1.2)\n",
      "Requirement already satisfied: itsdangerous>=2.1.2 in c:\\python311\\lib\\site-packages (from flask) (2.2.0)\n",
      "Requirement already satisfied: click>=8.1.3 in c:\\python311\\lib\\site-packages (from flask) (8.1.7)\n",
      "Requirement already satisfied: blinker>=1.6.2 in c:\\python311\\lib\\site-packages (from flask) (1.8.2)\n",
      "Requirement already satisfied: python-dateutil>=2.8.1 in c:\\users\\rajpr\\appdata\\roaming\\python\\python311\\site-packages (from pandas) (2.8.2)\n",
      "Requirement already satisfied: pytz>=2020.1 in c:\\users\\rajpr\\appdata\\roaming\\python\\python311\\site-packages (from pandas) (2022.6)\n",
      "Requirement already satisfied: numpy>=1.21.0 in c:\\users\\rajpr\\appdata\\roaming\\python\\python311\\site-packages (from pandas) (1.23.5)\n",
      "Requirement already satisfied: colorama in c:\\python311\\lib\\site-packages (from click>=8.1.3->flask) (0.4.6)\n",
      "Requirement already satisfied: MarkupSafe>=2.0 in c:\\python311\\lib\\site-packages (from Jinja2>=3.1.2->flask) (2.1.3)\n",
      "Requirement already satisfied: six>=1.5 in c:\\users\\rajpr\\appdata\\roaming\\python\\python311\\site-packages (from python-dateutil>=2.8.1->pandas) (1.16.0)\n",
      "Requirement already satisfied: supabase in c:\\python311\\lib\\site-packages (2.10.0)\n",
      "Requirement already satisfied: gotrue<3.0.0,>=2.10.0 in c:\\python311\\lib\\site-packages (from supabase) (2.11.0)\n",
      "Requirement already satisfied: httpx<0.28,>=0.26 in c:\\python311\\lib\\site-packages (from supabase) (0.27.2)\n",
      "Requirement already satisfied: postgrest<0.19,>=0.18 in c:\\python311\\lib\\site-packages (from supabase) (0.18.0)\n",
      "Requirement already satisfied: realtime<3.0.0,>=2.0.0 in c:\\python311\\lib\\site-packages (from supabase) (2.0.6)\n",
      "Requirement already satisfied: storage3<0.10.0,>=0.9.0 in c:\\python311\\lib\\site-packages (from supabase) (0.9.0)\n",
      "Requirement already satisfied: supafunc<0.8.0,>=0.7.0 in c:\\python311\\lib\\site-packages (from supabase) (0.7.0)\n",
      "Requirement already satisfied: pydantic<3,>=1.10 in c:\\python311\\lib\\site-packages (from gotrue<3.0.0,>=2.10.0->supabase) (2.10.4)\n",
      "Requirement already satisfied: anyio in c:\\users\\rajpr\\appdata\\roaming\\python\\python311\\site-packages (from httpx<0.28,>=0.26->supabase) (4.0.0)\n",
      "Requirement already satisfied: certifi in c:\\python311\\lib\\site-packages (from httpx<0.28,>=0.26->supabase) (2023.7.22)\n",
      "Requirement already satisfied: httpcore==1.* in c:\\python311\\lib\\site-packages (from httpx<0.28,>=0.26->supabase) (1.0.7)\n",
      "Requirement already satisfied: idna in c:\\python311\\lib\\site-packages (from httpx<0.28,>=0.26->supabase) (3.4)\n",
      "Requirement already satisfied: sniffio in c:\\users\\rajpr\\appdata\\roaming\\python\\python311\\site-packages (from httpx<0.28,>=0.26->supabase) (1.3.0)\n",
      "Requirement already satisfied: h11<0.15,>=0.13 in c:\\python311\\lib\\site-packages (from httpcore==1.*->httpx<0.28,>=0.26->supabase) (0.14.0)\n",
      "Requirement already satisfied: deprecation<3.0.0,>=2.1.0 in c:\\python311\\lib\\site-packages (from postgrest<0.19,>=0.18->supabase) (2.1.0)\n",
      "Requirement already satisfied: aiohttp<4.0.0,>=3.10.10 in c:\\python311\\lib\\site-packages (from realtime<3.0.0,>=2.0.0->supabase) (3.11.11)\n",
      "Requirement already satisfied: python-dateutil<3.0.0,>=2.8.1 in c:\\users\\rajpr\\appdata\\roaming\\python\\python311\\site-packages (from realtime<3.0.0,>=2.0.0->supabase) (2.8.2)\n",
      "Requirement already satisfied: typing-extensions<5.0.0,>=4.12.2 in c:\\python311\\lib\\site-packages (from realtime<3.0.0,>=2.0.0->supabase) (4.12.2)\n",
      "Requirement already satisfied: websockets<14,>=11 in c:\\python311\\lib\\site-packages (from realtime<3.0.0,>=2.0.0->supabase) (13.1)\n",
      "Requirement already satisfied: aiohappyeyeballs>=2.3.0 in c:\\python311\\lib\\site-packages (from aiohttp<4.0.0,>=3.10.10->realtime<3.0.0,>=2.0.0->supabase) (2.4.4)\n",
      "Requirement already satisfied: aiosignal>=1.1.2 in c:\\python311\\lib\\site-packages (from aiohttp<4.0.0,>=3.10.10->realtime<3.0.0,>=2.0.0->supabase) (1.3.2)\n",
      "Requirement already satisfied: attrs>=17.3.0 in c:\\python311\\lib\\site-packages (from aiohttp<4.0.0,>=3.10.10->realtime<3.0.0,>=2.0.0->supabase) (24.2.0)\n",
      "Requirement already satisfied: frozenlist>=1.1.1 in c:\\python311\\lib\\site-packages (from aiohttp<4.0.0,>=3.10.10->realtime<3.0.0,>=2.0.0->supabase) (1.5.0)\n",
      "Requirement already satisfied: multidict<7.0,>=4.5 in c:\\python311\\lib\\site-packages (from aiohttp<4.0.0,>=3.10.10->realtime<3.0.0,>=2.0.0->supabase) (6.1.0)\n",
      "Requirement already satisfied: propcache>=0.2.0 in c:\\python311\\lib\\site-packages (from aiohttp<4.0.0,>=3.10.10->realtime<3.0.0,>=2.0.0->supabase) (0.2.1)\n",
      "Requirement already satisfied: yarl<2.0,>=1.17.0 in c:\\python311\\lib\\site-packages (from aiohttp<4.0.0,>=3.10.10->realtime<3.0.0,>=2.0.0->supabase) (1.18.3)\n",
      "Requirement already satisfied: packaging in c:\\users\\rajpr\\appdata\\roaming\\python\\python311\\site-packages (from deprecation<3.0.0,>=2.1.0->postgrest<0.19,>=0.18->supabase) (21.3)\n",
      "Requirement already satisfied: h2<5,>=3 in c:\\python311\\lib\\site-packages (from httpx[http2]<0.28,>=0.26->gotrue<3.0.0,>=2.10.0->supabase) (4.1.0)\n",
      "Requirement already satisfied: annotated-types>=0.6.0 in c:\\python311\\lib\\site-packages (from pydantic<3,>=1.10->gotrue<3.0.0,>=2.10.0->supabase) (0.7.0)\n",
      "Requirement already satisfied: pydantic-core==2.27.2 in c:\\python311\\lib\\site-packages (from pydantic<3,>=1.10->gotrue<3.0.0,>=2.10.0->supabase) (2.27.2)\n",
      "Requirement already satisfied: six>=1.5 in c:\\users\\rajpr\\appdata\\roaming\\python\\python311\\site-packages (from python-dateutil<3.0.0,>=2.8.1->realtime<3.0.0,>=2.0.0->supabase) (1.16.0)\n",
      "Requirement already satisfied: hyperframe<7,>=6.0 in c:\\python311\\lib\\site-packages (from h2<5,>=3->httpx[http2]<0.28,>=0.26->gotrue<3.0.0,>=2.10.0->supabase) (6.0.1)\n",
      "Requirement already satisfied: hpack<5,>=4.0 in c:\\python311\\lib\\site-packages (from h2<5,>=3->httpx[http2]<0.28,>=0.26->gotrue<3.0.0,>=2.10.0->supabase) (4.0.0)\n",
      "Requirement already satisfied: pyparsing!=3.0.5,>=2.0.2 in c:\\users\\rajpr\\appdata\\roaming\\python\\python311\\site-packages (from packaging->deprecation<3.0.0,>=2.1.0->postgrest<0.19,>=0.18->supabase) (3.0.9)\n",
      "Requirement already satisfied: cryptography in c:\\python311\\lib\\site-packages (44.0.0)\n",
      "Requirement already satisfied: cffi>=1.12 in c:\\users\\rajpr\\appdata\\roaming\\python\\python311\\site-packages (from cryptography) (1.16.0)\n",
      "Requirement already satisfied: pycparser in c:\\users\\rajpr\\appdata\\roaming\\python\\python311\\site-packages (from cffi>=1.12->cryptography) (2.21)\n"
     ]
    }
   ],
   "source": [
    "!pip install flask pandas flask_cors\n",
    "!pip install supabase\n",
    "!pip install cryptography\n"
   ]
  },
  {
   "cell_type": "markdown",
   "metadata": {},
   "source": [
    "Importing Libraries"
   ]
  },
  {
   "cell_type": "code",
   "execution_count": 1,
   "metadata": {},
   "outputs": [],
   "source": [
    "import os\n",
    "from flask import Flask, request, jsonify\n",
    "import pandas as pd\n",
    "from flask_cors import CORS\n",
    "import numpy as np"
   ]
  },
  {
   "cell_type": "markdown",
   "metadata": {},
   "source": [
    "Establishing a connection to the LLM, which will be queried at a later stage."
   ]
  },
  {
   "cell_type": "code",
   "execution_count": 173,
   "metadata": {},
   "outputs": [
    {
     "name": "stdout",
     "output_type": "stream",
     "text": [
      "Requirement already satisfied: google-generativeai in c:\\python311\\lib\\site-packages (0.8.3)\n",
      "Requirement already satisfied: google-ai-generativelanguage==0.6.10 in c:\\python311\\lib\\site-packages (from google-generativeai) (0.6.10)\n",
      "Requirement already satisfied: google-api-core in c:\\python311\\lib\\site-packages (from google-generativeai) (2.15.0)\n",
      "Requirement already satisfied: google-api-python-client in c:\\python311\\lib\\site-packages (from google-generativeai) (2.111.0)\n",
      "Requirement already satisfied: google-auth>=2.15.0 in c:\\python311\\lib\\site-packages (from google-generativeai) (2.23.3)\n",
      "Requirement already satisfied: protobuf in c:\\python311\\lib\\site-packages (from google-generativeai) (4.25.5)\n",
      "Requirement already satisfied: pydantic in c:\\python311\\lib\\site-packages (from google-generativeai) (2.10.4)\n",
      "Requirement already satisfied: tqdm in c:\\python311\\lib\\site-packages (from google-generativeai) (4.66.1)\n",
      "Requirement already satisfied: typing-extensions in c:\\python311\\lib\\site-packages (from google-generativeai) (4.12.2)\n",
      "Requirement already satisfied: proto-plus<2.0.0dev,>=1.22.3 in c:\\python311\\lib\\site-packages (from google-ai-generativelanguage==0.6.10->google-generativeai) (1.25.0)\n",
      "Requirement already satisfied: googleapis-common-protos<2.0.dev0,>=1.56.2 in c:\\python311\\lib\\site-packages (from google-api-core->google-generativeai) (1.62.0)\n",
      "Requirement already satisfied: requests<3.0.0.dev0,>=2.18.0 in c:\\python311\\lib\\site-packages (from google-api-core->google-generativeai) (2.31.0)\n",
      "Requirement already satisfied: cachetools<6.0,>=2.0.0 in c:\\python311\\lib\\site-packages (from google-auth>=2.15.0->google-generativeai) (5.3.2)\n",
      "Requirement already satisfied: pyasn1-modules>=0.2.1 in c:\\python311\\lib\\site-packages (from google-auth>=2.15.0->google-generativeai) (0.3.0)\n",
      "Requirement already satisfied: rsa<5,>=3.1.4 in c:\\python311\\lib\\site-packages (from google-auth>=2.15.0->google-generativeai) (4.9)\n",
      "Requirement already satisfied: httplib2<1.dev0,>=0.15.0 in c:\\python311\\lib\\site-packages (from google-api-python-client->google-generativeai) (0.22.0)\n",
      "Requirement already satisfied: google-auth-httplib2>=0.1.0 in c:\\python311\\lib\\site-packages (from google-api-python-client->google-generativeai) (0.2.0)\n",
      "Requirement already satisfied: uritemplate<5,>=3.0.1 in c:\\python311\\lib\\site-packages (from google-api-python-client->google-generativeai) (4.1.1)\n",
      "Requirement already satisfied: annotated-types>=0.6.0 in c:\\python311\\lib\\site-packages (from pydantic->google-generativeai) (0.7.0)\n",
      "Requirement already satisfied: pydantic-core==2.27.2 in c:\\python311\\lib\\site-packages (from pydantic->google-generativeai) (2.27.2)\n",
      "Requirement already satisfied: colorama in c:\\python311\\lib\\site-packages (from tqdm->google-generativeai) (0.4.6)\n",
      "Requirement already satisfied: grpcio<2.0dev,>=1.33.2 in c:\\python311\\lib\\site-packages (from google-api-core[grpc]!=2.0.*,!=2.1.*,!=2.10.*,!=2.2.*,!=2.3.*,!=2.4.*,!=2.5.*,!=2.6.*,!=2.7.*,!=2.8.*,!=2.9.*,<3.0.0dev,>=1.34.1->google-ai-generativelanguage==0.6.10->google-generativeai) (1.68.1)\n",
      "Requirement already satisfied: grpcio-status<2.0.dev0,>=1.33.2 in c:\\python311\\lib\\site-packages (from google-api-core[grpc]!=2.0.*,!=2.1.*,!=2.10.*,!=2.2.*,!=2.3.*,!=2.4.*,!=2.5.*,!=2.6.*,!=2.7.*,!=2.8.*,!=2.9.*,<3.0.0dev,>=1.34.1->google-ai-generativelanguage==0.6.10->google-generativeai) (1.62.3)\n",
      "Requirement already satisfied: pyparsing!=3.0.0,!=3.0.1,!=3.0.2,!=3.0.3,<4,>=2.4.2 in c:\\users\\rajpr\\appdata\\roaming\\python\\python311\\site-packages (from httplib2<1.dev0,>=0.15.0->google-api-python-client->google-generativeai) (3.0.9)\n",
      "Requirement already satisfied: pyasn1<0.6.0,>=0.4.6 in c:\\python311\\lib\\site-packages (from pyasn1-modules>=0.2.1->google-auth>=2.15.0->google-generativeai) (0.5.0)\n",
      "Requirement already satisfied: charset-normalizer<4,>=2 in c:\\python311\\lib\\site-packages (from requests<3.0.0.dev0,>=2.18.0->google-api-core->google-generativeai) (3.3.1)\n",
      "Requirement already satisfied: idna<4,>=2.5 in c:\\python311\\lib\\site-packages (from requests<3.0.0.dev0,>=2.18.0->google-api-core->google-generativeai) (3.4)\n",
      "Requirement already satisfied: urllib3<3,>=1.21.1 in c:\\python311\\lib\\site-packages (from requests<3.0.0.dev0,>=2.18.0->google-api-core->google-generativeai) (2.0.7)\n",
      "Requirement already satisfied: certifi>=2017.4.17 in c:\\python311\\lib\\site-packages (from requests<3.0.0.dev0,>=2.18.0->google-api-core->google-generativeai) (2023.7.22)\n",
      "Note: you may need to restart the kernel to use updated packages.\n"
     ]
    }
   ],
   "source": [
    "pip install google-generativeai\n"
   ]
  },
  {
   "cell_type": "code",
   "execution_count": 2,
   "metadata": {},
   "outputs": [],
   "source": [
    "\n",
    "import os\n",
    "from supabase import create_client, Client\n",
    "from dotenv import load_dotenv"
   ]
  },
  {
   "cell_type": "code",
   "execution_count": 3,
   "metadata": {},
   "outputs": [
    {
     "data": {
      "text/plain": [
       "True"
      ]
     },
     "execution_count": 3,
     "metadata": {},
     "output_type": "execute_result"
    }
   ],
   "source": [
    "load_dotenv()"
   ]
  },
  {
   "cell_type": "code",
   "execution_count": 6,
   "metadata": {},
   "outputs": [],
   "source": [
    "api_key:str=os.environ.get(\"NEXT_PUBLIC_GOOGLE_API_KEY\")  \n"
   ]
  },
  {
   "cell_type": "code",
   "execution_count": 7,
   "metadata": {},
   "outputs": [],
   "source": [
    "import google.generativeai as genai\n",
    "\n",
    "genai.configure(api_key=api_key)  \n",
    "\n",
    "model = genai.GenerativeModel(\"gemini-1.5-flash\")\n",
    "\n",
    "response = model.generate_content(\"Write Python code to find the average of an array. Only return the code, no additional text, just code so that I can run it in command line and the name should be Mean_array\")\n",
    "\n"
   ]
  },
  {
   "cell_type": "code",
   "execution_count": null,
   "metadata": {},
   "outputs": [],
   "source": []
  },
  {
   "cell_type": "markdown",
   "metadata": {},
   "source": [
    "REQUEST1 : FOR VALIDATING THE DATA TYPE OF THE COLUMNS C3 AND C4 (MUST BE INT OR FLOAT)"
   ]
  },
  {
   "cell_type": "code",
   "execution_count": 8,
   "metadata": {},
   "outputs": [],
   "source": [
    "def check_data_type_google_genAI(nums):\n",
    "    prompt = f\"\"\"\n",
    "        give me a function named validate_array\n",
    "        iterate over the array and check if data type is integer or float or not\n",
    "        If any of the entry is neither integer nor float return -1\n",
    "        else 1\n",
    "        Just give me the code ,no additional text ,so to use that code directly\n",
    "    \"\"\"\n",
    "\n",
    "    response = model.generate_content(prompt)\n",
    "\n",
    "    generated_code = response.text.strip()\n",
    "    code_lines = generated_code.splitlines()\n",
    "    code_lines=code_lines = code_lines[1:-1]\n",
    "    cleaned_code = \"\\n\".join(code_lines)\n",
    "    # print(cleaned_code)\n",
    "    exec(cleaned_code, globals())\n",
    "\n",
    "    # Dynamically calling the generated function\n",
    "    function_name = \"validate_array\"\n",
    "    if function_name in globals():\n",
    "        result = globals()[function_name](nums)  \n",
    "        return result\n",
    "    else:\n",
    "        raise ValueError(f\"The function {function_name} was not correctly defined.\")\n",
    "    \n",
    "    \n"
   ]
  },
  {
   "cell_type": "markdown",
   "metadata": {},
   "source": [
    "REQUEST2: GETTING THE CODE FOR THE REQUIRED OPERATION FROM THE google_gen_AI LLM"
   ]
  },
  {
   "cell_type": "code",
   "execution_count": 9,
   "metadata": {},
   "outputs": [],
   "source": [
    "def make_prompt_google_genAI(operation ,nums):\n",
    "    \n",
    "    prompt = f\"\"\"\n",
    "    Write Python code to find the {operation} of an array. The code should:\n",
    "    - Iterate over the array\n",
    "    - Check for NaN values\n",
    "    - Skip the NaN values when performing the {operation}\n",
    "    - Maintain a count of the NaN values\n",
    "    - Return the {operation} and number of nan values, no additional text, just code so that I can run it in command line.\n",
    "    The name of the function should be {operation}_array.\n",
    "    \"\"\"\n",
    "   \n",
    "    response = model.generate_content(prompt)\n",
    "    # print(response)\n",
    "    generated_code = response.text.strip()\n",
    "    \n",
    "    code_lines = generated_code.splitlines()\n",
    "    code_lines=code_lines = code_lines[1:-1]\n",
    "    cleaned_code = \"\\n\".join(code_lines)\n",
    "    # print(cleaned_code)\n",
    "    exec(cleaned_code, globals())\n",
    "\n",
    "    # Dynamically call the generated function\n",
    "    function_name = f\"{operation}_array\"\n",
    "    if function_name in globals():\n",
    "        result = globals()[function_name](nums)  \n",
    "        return result\n",
    "    else:\n",
    "        raise ValueError(f\"The function {function_name} was not correctly defined.\")\n",
    "\n",
    "    "
   ]
  },
  {
   "cell_type": "markdown",
   "metadata": {},
   "source": [
    "FUNCTION FOR SAVING RECORDS IN THE SUPABASE(SQL DB)"
   ]
  },
  {
   "cell_type": "code",
   "execution_count": 10,
   "metadata": {},
   "outputs": [],
   "source": [
    "\n",
    "import os\n",
    "from supabase import create_client, Client\n",
    "from dotenv import load_dotenv"
   ]
  },
  {
   "cell_type": "code",
   "execution_count": 11,
   "metadata": {},
   "outputs": [],
   "source": [
    "load_dotenv()\n",
    "url: str = os.environ.get(\"NEXT_PUBLIC_SUPABASE_URL\") \n",
    "key: str = os.environ.get(\"NEXT_PUBLIC_SUPABASE_KEY\")  \n",
    "\n",
    "\n",
    "supabase: Client = create_client(url, key)"
   ]
  },
  {
   "cell_type": "code",
   "execution_count": 12,
   "metadata": {},
   "outputs": [],
   "source": [
    "def saving_records_in_sql_db(email ,authId,C3 ,C4 ,operation):\n",
    "    \"\"\"saving records in a table format\"\"\"\n",
    "    response = supabase.table(\"ColRecords\").insert({\n",
    "        \"email\": email,\n",
    "        \"C3\": C3,\n",
    "        \"C4\": C4,\n",
    "        \"operation\": operation\n",
    "    }).execute()\n"
   ]
  },
  {
   "cell_type": "markdown",
   "metadata": {},
   "source": [
    "HANDLING THE ROUTEs"
   ]
  },
  {
   "cell_type": "code",
   "execution_count": 11,
   "metadata": {},
   "outputs": [
    {
     "name": "stdout",
     "output_type": "stream",
     "text": [
      " * Serving Flask app '__main__'\n",
      " * Debug mode: off\n"
     ]
    },
    {
     "name": "stderr",
     "output_type": "stream",
     "text": [
      "WARNING: This is a development server. Do not use it in a production deployment. Use a production WSGI server instead.\n",
      " * Running on all addresses (0.0.0.0)\n",
      " * Running on http://127.0.0.1:5000\n",
      " * Running on http://192.168.1.2:5000\n",
      "Press CTRL+C to quit\n"
     ]
    }
   ],
   "source": [
    "from flask import Flask, request, jsonify\n",
    "import pandas as pd\n",
    "import os\n",
    "from flask_cors import CORS\n",
    "\n",
    "app = Flask(__name__)\n",
    "CORS(app)\n",
    "\n",
    "UPLOAD_FOLDER = './uploads'\n",
    "os.makedirs(UPLOAD_FOLDER, exist_ok=True)\n",
    "app.config['UPLOAD_FOLDER'] = UPLOAD_FOLDER\n",
    "\n",
    "@app.route('/')\n",
    "def testprint():\n",
    "    return \"<h1>app</h1>\"\n",
    "\n",
    "@app.route('/upload', methods=['POST'])\n",
    "def upload_file():\n",
    "    if 'file' not in request.files:\n",
    "        return jsonify({\"error\": \"No file part\"}), 400\n",
    "    file = request.files['file']\n",
    "    operation = request.form['operation']\n",
    "    email=request.form['email']\n",
    "    auth_id = request.form['auth']\n",
    "    if file.filename == '':\n",
    "        return jsonify({\"error\": \"No selected file\"}), 400\n",
    "    if file and file.filename.endswith('.csv'):\n",
    "        filepath = os.path.join(app.config['UPLOAD_FOLDER'], file.filename)\n",
    "        file.save(filepath)\n",
    "\n",
    "        # Read CSV file into DataFrame\n",
    "        df = pd.read_csv(filepath)\n",
    "\n",
    "        # Check if C3 and C4 columns exist\n",
    "        if 'C3' not in df.columns or 'C4' not in df.columns:\n",
    "            return jsonify({\"error\": \"Missing columns C3 or C4\"}), 400\n",
    "\n",
    "        # Extract C3 and C4 columns as lists\n",
    "        c3_data = df['C3'].tolist()\n",
    "        c4_data = df['C4'].tolist()\n",
    "\n",
    "\n",
    "\n",
    "\n",
    "        # Validate if NaN values are present in C3 and C4\n",
    "        number_of_Nans_in_C3 = df[\"C3\"].isna().sum()\n",
    "        number_of_Nans_in_C4 = df[\"C4\"].isna().sum()\n",
    "\n",
    "        # Print the NaN count for debugging\n",
    "\n",
    "        # 1. to check the data type of the column\n",
    "        is_C3_valid = check_data_type_google_genAI(c3_data)\n",
    "        is_C4_valid = check_data_type_google_genAI(c4_data)\n",
    "        \n",
    "        result_of_C3 =-1\n",
    "        result_of_C4=-1\n",
    "        nan_count_c3=0\n",
    "        nan_count_c4=0\n",
    "        if is_C3_valid!=-1:\n",
    "            result_of_C3, nan_count_c3 = make_prompt_google_genAI(operation, c3_data)\n",
    "\n",
    "        if is_C4_valid!=-1:\n",
    "            result_of_C4, nan_count_c4 = make_prompt_google_genAI(operation, c4_data)\n",
    "        \n",
    "        to_return = {}\n",
    "\n",
    "        to_return[\"c3\"] = result_of_C3\n",
    "        to_return[\"c4\"] = result_of_C4 \n",
    "        \n",
    "        to_return[\"c3nans\"]=int(number_of_Nans_in_C3)\n",
    "        to_return[\"c4nans\"]=int(number_of_Nans_in_C4)\n",
    "\n",
    "        # calling the function to save the records in my table\n",
    "        saving_records_in_sql_db(email ,auth_id ,result_of_C3 ,result_of_C4 ,operation)\n",
    "        \n",
    "        return jsonify(to_return)\n",
    "\n",
    "    return jsonify({\"error\": \"Invalid file type\"}), 400\n",
    "\n",
    "if __name__ == \"__main__\":\n",
    "    app.run(host='0.0.0.0', port=5000)\n"
   ]
  }
 ],
 "metadata": {
  "kernelspec": {
   "display_name": "My Environment",
   "language": "python",
   "name": "myenv"
  },
  "language_info": {
   "codemirror_mode": {
    "name": "ipython",
    "version": 3
   },
   "file_extension": ".py",
   "mimetype": "text/x-python",
   "name": "python",
   "nbconvert_exporter": "python",
   "pygments_lexer": "ipython3",
   "version": "3.11.4"
  }
 },
 "nbformat": 4,
 "nbformat_minor": 2
}
